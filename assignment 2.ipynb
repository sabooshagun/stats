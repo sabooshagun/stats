{
 "cells": [
  {
   "cell_type": "code",
   "execution_count": 1,
   "metadata": {},
   "outputs": [],
   "source": [
    "import pandas as pd\n",
    "import os"
   ]
  },
  {
   "cell_type": "code",
   "execution_count": 2,
   "metadata": {},
   "outputs": [
    {
     "data": {
      "text/plain": [
       "'/Users/shagunsaboo/stats'"
      ]
     },
     "execution_count": 2,
     "metadata": {},
     "output_type": "execute_result"
    }
   ],
   "source": [
    "os.getcwd()"
   ]
  },
  {
   "cell_type": "code",
   "execution_count": 2,
   "metadata": {},
   "outputs": [
    {
     "data": {
      "text/html": [
       "<div>\n",
       "<style scoped>\n",
       "    .dataframe tbody tr th:only-of-type {\n",
       "        vertical-align: middle;\n",
       "    }\n",
       "\n",
       "    .dataframe tbody tr th {\n",
       "        vertical-align: top;\n",
       "    }\n",
       "\n",
       "    .dataframe thead th {\n",
       "        text-align: right;\n",
       "    }\n",
       "</style>\n",
       "<table border=\"1\" class=\"dataframe\">\n",
       "  <thead>\n",
       "    <tr style=\"text-align: right;\">\n",
       "      <th></th>\n",
       "      <th>SNo</th>\n",
       "      <th>Date</th>\n",
       "      <th>StartupName</th>\n",
       "      <th>IndustryVertical</th>\n",
       "      <th>SubVertical</th>\n",
       "      <th>CityLocation</th>\n",
       "      <th>InvestorsName</th>\n",
       "      <th>InvestmentType</th>\n",
       "      <th>AmountInUSD</th>\n",
       "      <th>Remarks</th>\n",
       "    </tr>\n",
       "  </thead>\n",
       "  <tbody>\n",
       "    <tr>\n",
       "      <th>0</th>\n",
       "      <td>0</td>\n",
       "      <td>01/08/2017</td>\n",
       "      <td>TouchKin</td>\n",
       "      <td>Technology</td>\n",
       "      <td>Predictive Care Platform</td>\n",
       "      <td>Bangalore</td>\n",
       "      <td>Kae Capital</td>\n",
       "      <td>Private Equity</td>\n",
       "      <td>1,300,000</td>\n",
       "      <td>NaN</td>\n",
       "    </tr>\n",
       "    <tr>\n",
       "      <th>1</th>\n",
       "      <td>1</td>\n",
       "      <td>02/08/2017</td>\n",
       "      <td>Ethinos</td>\n",
       "      <td>Technology</td>\n",
       "      <td>Digital Marketing Agency</td>\n",
       "      <td>Mumbai</td>\n",
       "      <td>Triton Investment Advisors</td>\n",
       "      <td>Private Equity</td>\n",
       "      <td>NaN</td>\n",
       "      <td>NaN</td>\n",
       "    </tr>\n",
       "    <tr>\n",
       "      <th>2</th>\n",
       "      <td>2</td>\n",
       "      <td>02/08/2017</td>\n",
       "      <td>Leverage Edu</td>\n",
       "      <td>Consumer Internet</td>\n",
       "      <td>Online platform for Higher Education Services</td>\n",
       "      <td>New Delhi</td>\n",
       "      <td>Kashyap Deorah, Anand Sankeshwar, Deepak Jain,...</td>\n",
       "      <td>Seed Funding</td>\n",
       "      <td>NaN</td>\n",
       "      <td>NaN</td>\n",
       "    </tr>\n",
       "    <tr>\n",
       "      <th>3</th>\n",
       "      <td>3</td>\n",
       "      <td>02/08/2017</td>\n",
       "      <td>Zepo</td>\n",
       "      <td>Consumer Internet</td>\n",
       "      <td>DIY Ecommerce platform</td>\n",
       "      <td>Mumbai</td>\n",
       "      <td>Kunal Shah, LetsVenture, Anupam Mittal, Hetal ...</td>\n",
       "      <td>Seed Funding</td>\n",
       "      <td>500,000</td>\n",
       "      <td>NaN</td>\n",
       "    </tr>\n",
       "    <tr>\n",
       "      <th>4</th>\n",
       "      <td>4</td>\n",
       "      <td>02/08/2017</td>\n",
       "      <td>Click2Clinic</td>\n",
       "      <td>Consumer Internet</td>\n",
       "      <td>healthcare service aggregator</td>\n",
       "      <td>Hyderabad</td>\n",
       "      <td>Narottam Thudi, Shireesh Palle</td>\n",
       "      <td>Seed Funding</td>\n",
       "      <td>850,000</td>\n",
       "      <td>NaN</td>\n",
       "    </tr>\n",
       "  </tbody>\n",
       "</table>\n",
       "</div>"
      ],
      "text/plain": [
       "   SNo        Date   StartupName   IndustryVertical  \\\n",
       "0    0  01/08/2017      TouchKin         Technology   \n",
       "1    1  02/08/2017       Ethinos         Technology   \n",
       "2    2  02/08/2017  Leverage Edu  Consumer Internet   \n",
       "3    3  02/08/2017          Zepo  Consumer Internet   \n",
       "4    4  02/08/2017  Click2Clinic  Consumer Internet   \n",
       "\n",
       "                                     SubVertical CityLocation  \\\n",
       "0                       Predictive Care Platform    Bangalore   \n",
       "1                       Digital Marketing Agency       Mumbai   \n",
       "2  Online platform for Higher Education Services    New Delhi   \n",
       "3                         DIY Ecommerce platform       Mumbai   \n",
       "4                  healthcare service aggregator    Hyderabad   \n",
       "\n",
       "                                       InvestorsName  InvestmentType  \\\n",
       "0                                        Kae Capital  Private Equity   \n",
       "1                         Triton Investment Advisors  Private Equity   \n",
       "2  Kashyap Deorah, Anand Sankeshwar, Deepak Jain,...    Seed Funding   \n",
       "3  Kunal Shah, LetsVenture, Anupam Mittal, Hetal ...    Seed Funding   \n",
       "4                     Narottam Thudi, Shireesh Palle    Seed Funding   \n",
       "\n",
       "  AmountInUSD Remarks  \n",
       "0   1,300,000     NaN  \n",
       "1         NaN     NaN  \n",
       "2         NaN     NaN  \n",
       "3     500,000     NaN  \n",
       "4     850,000     NaN  "
      ]
     },
     "execution_count": 2,
     "metadata": {},
     "output_type": "execute_result"
    }
   ],
   "source": [
    "df=pd.read_csv('/Users/shagunsaboo/Downloads/startup.csv')\n",
    "df.head()"
   ]
  },
  {
   "cell_type": "code",
   "execution_count": 11,
   "metadata": {},
   "outputs": [
    {
     "data": {
      "text/plain": [
       "0             Bangalore\n",
       "1                Mumbai\n",
       "2             New Delhi\n",
       "3                Mumbai\n",
       "4             Hyderabad\n",
       "5             Bangalore\n",
       "6             Ahmedabad\n",
       "7               Gurgaon\n",
       "8             Bangalore\n",
       "9                 Noida\n",
       "10               Mumbai\n",
       "11            Bangalore\n",
       "12              Gurgaon\n",
       "13            Bangalore\n",
       "14            Bangalore\n",
       "15            Hyderabad\n",
       "16                 Pune\n",
       "17               Mumbai\n",
       "18            Bangalore\n",
       "19            Bangalore\n",
       "20            Hyderabad\n",
       "21            Bangalore\n",
       "22                 Pune\n",
       "23            Bangalore\n",
       "24            Bangalore\n",
       "25            Bangalore\n",
       "26                 Pune\n",
       "27                Noida\n",
       "28            Hyderabad\n",
       "29              Kolkata\n",
       "             ...       \n",
       "2171           Vadodara\n",
       "2172            Gurgaon\n",
       "2173            Chennai\n",
       "2174            Chennai\n",
       "2175          New Delhi\n",
       "2176          Bangalore\n",
       "2177          New Delhi\n",
       "2178          Bangalore\n",
       "2179             Mumbai\n",
       "2180    Bangalore / SFO\n",
       "2181          Bangalore\n",
       "2182         Chandigarh\n",
       "2183          New Delhi\n",
       "2184          New Delhi\n",
       "2185             Mumbai\n",
       "2186               Pune\n",
       "2187             Mumbai\n",
       "2188             Jaipur\n",
       "2189          New Delhi\n",
       "2190          Bangalore\n",
       "2191          Bangalore\n",
       "2192          Hyderabad\n",
       "2193             Mumbai\n",
       "2194            Gurgaon\n",
       "2195          Pune / US\n",
       "2196          Bangalore\n",
       "2197          Bangalore\n",
       "2198          Bangalore\n",
       "2199            Chennai\n",
       "2200              Noida\n",
       "Name: CityLocation, Length: 2193, dtype: object"
      ]
     },
     "execution_count": 11,
     "metadata": {},
     "output_type": "execute_result"
    }
   ],
   "source": [
    "df['CityLocation'].replace({\"Delhi\":\"New Delhi\",\"bangalore\":\"Bangalore\"})"
   ]
  },
  {
   "cell_type": "code",
   "execution_count": 12,
   "metadata": {},
   "outputs": [
    {
     "data": {
      "text/plain": [
       "array(['Bangalore', 'Mumbai', 'New Delhi', 'Hyderabad', 'Ahmedabad',\n",
       "       'Gurgaon', 'Noida', 'Pune', 'Kolkata', 'bangalore', 'Trivandrum',\n",
       "       'Chennai', 'Chandigarh', 'Jaipur', 'Vadodara', 'Surat',\n",
       "       'Missourie', 'Panaji', 'Gwalior', 'Karur', 'Udupi', 'Kochi',\n",
       "       'Indore', 'Singapore', 'Goa', 'Agra', 'Bangalore/ Bangkok',\n",
       "       'Hubli', 'Delhi', 'Kerala', 'Kozhikode', 'US', 'Coimbatore',\n",
       "       'Siliguri', 'USA', 'Lucknow', 'Kanpur', 'SFO / Bangalore',\n",
       "       'London', 'Seattle / Bangalore', 'Pune/Seattle', 'Pune / Dubai',\n",
       "       'Bangalore / SFO', 'Varanasi', 'Bhopal', 'New Delhi / US',\n",
       "       'Mumbai / UK', 'Jodhpur', 'Hyderabad/USA', 'Boston',\n",
       "       'Bangalore / Palo Alto', 'Mumbai / NY', 'USA/India',\n",
       "       'Goa/Hyderabad', 'Noida / Singapore', 'Belgaum', 'Pune / US',\n",
       "       'Chennai/ Singapore', 'Pune / Singapore', 'Bangalore / San Mateo',\n",
       "       'New York/ India', 'US/India', 'Gurgaon / SFO', 'Bangalore / USA',\n",
       "       'New Delhi/ Houston', 'Nagpur', 'Mumbai / Global', 'India / US',\n",
       "       'Udaipur', 'New Delhi / California', 'Dallas / Hyderabad'],\n",
       "      dtype=object)"
      ]
     },
     "execution_count": 12,
     "metadata": {},
     "output_type": "execute_result"
    }
   ],
   "source": [
    "city=df['CityLocation']\n",
    "city.unique()\n",
    "                     "
   ]
  },
  {
   "cell_type": "code",
   "execution_count": null,
   "metadata": {},
   "outputs": [],
   "source": []
  },
  {
   "cell_type": "code",
   "execution_count": 5,
   "metadata": {},
   "outputs": [
    {
     "data": {
      "text/plain": [
       "0    Bangalore\n",
       "1       Mumbai\n",
       "2    New Delhi\n",
       "3       Mumbai\n",
       "4    Hyderabad\n",
       "Name: CityLocation, dtype: object"
      ]
     },
     "execution_count": 5,
     "metadata": {},
     "output_type": "execute_result"
    }
   ],
   "source": []
  },
  {
   "cell_type": "code",
   "execution_count": null,
   "metadata": {},
   "outputs": [],
   "source": []
  }
 ],
 "metadata": {
  "kernelspec": {
   "display_name": "Python 3",
   "language": "python",
   "name": "python3"
  },
  "language_info": {
   "codemirror_mode": {
    "name": "ipython",
    "version": 3
   },
   "file_extension": ".py",
   "mimetype": "text/x-python",
   "name": "python",
   "nbconvert_exporter": "python",
   "pygments_lexer": "ipython3",
   "version": "3.7.3"
  }
 },
 "nbformat": 4,
 "nbformat_minor": 2
}
